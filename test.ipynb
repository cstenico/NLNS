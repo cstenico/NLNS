{
 "cells": [
  {
   "cell_type": "code",
   "execution_count": 16,
   "metadata": {},
   "outputs": [],
   "source": [
    "import json\n",
    "\n",
    "# Helper function to convert latitude and longitude to cartesian coordinates\n",
    "def convert_to_grid_coords(lat, lng, lat_min, lat_max, lng_min, lng_max, grid_size=1000, depot_position=(500, 500)):\n",
    "    # Normalizing latitude and longitude\n",
    "    lat_norm = (lat - lat_min) / (lat_max - lat_min)\n",
    "    lng_norm = (lng - lng_min) / (lng_max - lng_min)\n",
    "\n",
    "    # Scaling to the grid size\n",
    "    x = int(lng_norm * grid_size)\n",
    "    y = int(lat_norm * grid_size)\n",
    "\n",
    "    # Translating so that depot is at the specified position\n",
    "    x += (depot_position[0] - int(grid_size / 2))\n",
    "    y += (depot_position[1] - int(grid_size / 2))\n",
    "\n",
    "    return x, y\n",
    "\n",
    "# Path to the JSON file\n",
    "file_path_json = '/Users/cstenico/Documents/shire/tcc-mba/loggibud/data/025/vrppd-instances-1.0/train/pa-0/cvrp-0-pa-0.json'\n",
    "\n",
    "\n",
    "# Loading the JSON data\n",
    "with open(file_path_json, 'r') as file:\n",
    "    json_data = json.load(file)\n",
    "\n",
    "# Extracting depot data\n",
    "depot = json_data['depot']\n",
    "\n",
    "partial_demands = json_data['demands'][:100]\n",
    "\n",
    "# Finding the min and max latitude and longitude values from the JSON data\n",
    "latitudes = [demand['point']['lat'] for demand in partial_demands] + [depot['lat']]\n",
    "longitudes = [demand['point']['lng'] for demand in partial_demands] + [depot['lng']]\n",
    "lat_min, lat_max = min(latitudes), max(latitudes)\n",
    "lng_min, lng_max = min(longitudes), max(longitudes)\n",
    "\n",
    "# Converting the depot and demands to VRP format with the new coordinate system\n",
    "depot_coords = convert_to_grid_coords(depot['lat'], depot['lng'], lat_min, lat_max, lng_min, lng_max)\n",
    "demands = [f\"1\\t0\"]  # Demand at depot is zero\n",
    "\n",
    "# Preparing nodes with the new coordinate system\n",
    "nodes = [f\"1\\t{depot_coords[0]}\\t{depot_coords[1]}\"]  # Depot as the first node\n",
    "for i, demand in enumerate(partial_demands, start=2):\n",
    "    node_coords = convert_to_grid_coords(demand['point']['lat'], demand['point']['lng'], lat_min, lat_max, lng_min, lng_max)\n",
    "    nodes.append(f\"{i}\\t{node_coords[0]}\\t{node_coords[1]}\")\n",
    "    demands.append(f\"{i}\\t{demand['size']}\")\n",
    "\n",
    "# Constructing the VRP file content\n",
    "vrp_content = f\"NAME : {json_data['name']}\\n\"\n",
    "vrp_content += \"TYPE : CVRP\\n\"\n",
    "vrp_content += f\"DIMENSION : {len(nodes)}\\n\"\n",
    "vrp_content += \"EDGE_WEIGHT_TYPE : EUC_2D\\n\"\n",
    "vrp_content += f\"CAPACITY : {json_data['vehicle_capacity']}\\n\"\n",
    "vrp_content += \"NODE_COORD_SECTION\\n\"\n",
    "vrp_content += '\\n'.join(nodes)\n",
    "vrp_content += \"\\nDEMAND_SECTION\\n\"\n",
    "vrp_content += '\\n'.join(demands)\n",
    "vrp_content += \"\\nDEPOT_SECTION\\n1\\n-1\\nEOF\"\n"
   ]
  },
  {
   "cell_type": "code",
   "execution_count": 17,
   "metadata": {},
   "outputs": [
    {
     "data": {
      "text/plain": [
       "'NAME : cvrp-0-pa-0\\nTYPE : CVRP\\nDIMENSION : 101\\nEDGE_WEIGHT_TYPE : EUC_2D\\nCAPACITY : 180\\nNODE_COORD_SECTION\\n1\\t913\\t367\\n2\\t923\\t439\\n3\\t927\\t454\\n4\\t940\\t479\\n5\\t935\\t407\\n6\\t956\\t465\\n7\\t931\\t457\\n8\\t915\\t434\\n9\\t945\\t397\\n10\\t951\\t477\\n11\\t928\\t415\\n12\\t945\\t456\\n13\\t923\\t439\\n14\\t929\\t475\\n15\\t945\\t502\\n16\\t930\\t466\\n17\\t927\\t454\\n18\\t931\\t445\\n19\\t935\\t449\\n20\\t938\\t451\\n21\\t921\\t471\\n22\\t915\\t472\\n23\\t955\\t424\\n24\\t926\\t476\\n25\\t922\\t466\\n26\\t948\\t461\\n27\\t936\\t405\\n28\\t958\\t474\\n29\\t946\\t452\\n30\\t939\\t428\\n31\\t922\\t467\\n32\\t950\\t512\\n33\\t926\\t446\\n34\\t921\\t473\\n35\\t77\\t303\\n36\\t108\\t332\\n37\\t95\\t118\\n38\\t60\\t336\\n39\\t69\\t395\\n40\\t74\\t405\\n41\\t91\\t300\\n42\\t108\\t302\\n43\\t74\\t263\\n44\\t106\\t311\\n45\\t96\\t368\\n46\\t70\\t240\\n47\\t62\\t328\\n48\\t104\\t175\\n49\\t86\\t299\\n50\\t85\\t325\\n51\\t101\\t314\\n52\\t0\\t547\\n53\\t92\\t266\\n54\\t887\\t406\\n55\\t880\\t456\\n56\\t898\\t385\\n57\\t874\\t347\\n58\\t872\\t433\\n59\\t889\\t361\\n60\\t456\\t368\\n61\\t462\\t1000\\n62\\t506\\t151\\n63\\t418\\t915\\n64\\t476\\t277\\n65\\t530\\t174\\n66\\t320\\t0\\n67\\t522\\t181\\n68\\t525\\t183\\n69\\t972\\t400\\n70\\t980\\t494\\n71\\t962\\t366\\n72\\t971\\t385\\n73\\t985\\t381\\n74\\t974\\t381\\n75\\t964\\t371\\n76\\t991\\t471\\n77\\t983\\t396\\n78\\t962\\t403\\n79\\t977\\t490\\n80\\t962\\t409\\n81\\t1000\\t395\\n82\\t982\\t376\\n83\\t986\\t441\\n84\\t978\\t375\\n85\\t985\\t440\\n86\\t991\\t393\\n87\\t966\\t434\\n88\\t971\\t429\\n89\\t982\\t373\\n90\\t971\\t506\\n91\\t967\\t361\\n92\\t993\\t462\\n93\\t982\\t372\\n94\\t961\\t432\\n95\\t969\\t490\\n96\\t970\\t451\\n97\\t974\\t385\\n98\\t986\\t431\\n99\\t970\\t472\\n100\\t870\\t590\\n101\\t865\\t464\\nDEMAND_SECTION\\n1\\t0\\n2\\t10\\n3\\t2\\n4\\t10\\n5\\t2\\n6\\t3\\n7\\t10\\n8\\t3\\n9\\t3\\n10\\t3\\n11\\t5\\n12\\t8\\n13\\t10\\n14\\t10\\n15\\t3\\n16\\t3\\n17\\t5\\n18\\t7\\n19\\t9\\n20\\t3\\n21\\t6\\n22\\t1\\n23\\t9\\n24\\t4\\n25\\t3\\n26\\t6\\n27\\t7\\n28\\t3\\n29\\t8\\n30\\t3\\n31\\t1\\n32\\t3\\n33\\t5\\n34\\t8\\n35\\t4\\n36\\t2\\n37\\t2\\n38\\t1\\n39\\t7\\n40\\t4\\n41\\t1\\n42\\t2\\n43\\t8\\n44\\t8\\n45\\t8\\n46\\t7\\n47\\t6\\n48\\t9\\n49\\t2\\n50\\t6\\n51\\t7\\n52\\t10\\n53\\t10\\n54\\t7\\n55\\t2\\n56\\t3\\n57\\t1\\n58\\t3\\n59\\t5\\n60\\t7\\n61\\t1\\n62\\t8\\n63\\t3\\n64\\t4\\n65\\t1\\n66\\t10\\n67\\t10\\n68\\t5\\n69\\t1\\n70\\t10\\n71\\t5\\n72\\t8\\n73\\t6\\n74\\t5\\n75\\t9\\n76\\t6\\n77\\t7\\n78\\t9\\n79\\t6\\n80\\t1\\n81\\t8\\n82\\t8\\n83\\t3\\n84\\t7\\n85\\t10\\n86\\t2\\n87\\t10\\n88\\t4\\n89\\t10\\n90\\t10\\n91\\t10\\n92\\t8\\n93\\t9\\n94\\t6\\n95\\t5\\n96\\t10\\n97\\t8\\n98\\t3\\n99\\t2\\n100\\t5\\n101\\t2\\nDEPOT_SECTION\\n1\\n-1\\nEOF'"
      ]
     },
     "execution_count": 17,
     "metadata": {},
     "output_type": "execute_result"
    }
   ],
   "source": [
    "vrp_content"
   ]
  },
  {
   "cell_type": "code",
   "execution_count": 18,
   "metadata": {},
   "outputs": [],
   "source": [
    "output_file_path = 'instances/PA_1/PA.vrp'\n",
    "\n",
    "# Saving the VRP content to a file\n",
    "with open(output_file_path, 'w') as file:\n",
    "    file.write(vrp_content)"
   ]
  },
  {
   "cell_type": "code",
   "execution_count": 19,
   "metadata": {},
   "outputs": [],
   "source": [
    "from vrp.data_utils import InstanceBlueprint\n",
    "\n",
    "blue_print = InstanceBlueprint(nb_customers=len(partial_demands) - 1,\n",
    "depot_position='R',\n",
    "customer_position='R',\n",
    "nb_customer_cluster=None,\n",
    "demand_type='inter',\n",
    "demand_min=min(demand['size'] for demand in partial_demands),\n",
    "demand_max=max(demand['size'] for demand in partial_demands),\n",
    "capacity=json_data['vehicle_capacity'],\n",
    "grid_size=1000)"
   ]
  },
  {
   "cell_type": "code",
   "execution_count": 20,
   "metadata": {},
   "outputs": [
    {
     "data": {
      "text/plain": [
       "{'nb_customers': 99,\n",
       " 'depot_position': 'R',\n",
       " 'customer_position': 'R',\n",
       " 'nb_customers_cluster': None,\n",
       " 'demand_type': 'inter',\n",
       " 'demand_min': 1,\n",
       " 'demand_max': 10,\n",
       " 'capacity': 180,\n",
       " 'grid_size': 1000}"
      ]
     },
     "execution_count": 20,
     "metadata": {},
     "output_type": "execute_result"
    }
   ],
   "source": [
    "blue_print.__dict__\n"
   ]
  },
  {
   "cell_type": "code",
   "execution_count": null,
   "metadata": {},
   "outputs": [],
   "source": []
  }
 ],
 "metadata": {
  "kernelspec": {
   "display_name": "loggibud",
   "language": "python",
   "name": "python3"
  },
  "language_info": {
   "codemirror_mode": {
    "name": "ipython",
    "version": 3
   },
   "file_extension": ".py",
   "mimetype": "text/x-python",
   "name": "python",
   "nbconvert_exporter": "python",
   "pygments_lexer": "ipython3",
   "version": "3.9.4"
  }
 },
 "nbformat": 4,
 "nbformat_minor": 2
}
