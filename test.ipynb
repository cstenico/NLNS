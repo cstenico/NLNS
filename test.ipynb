{
 "cells": [
  {
   "cell_type": "code",
   "execution_count": 2,
   "metadata": {},
   "outputs": [],
   "source": [
    "import json\n",
    "\n",
    "# Helper function to convert latitude and longitude to cartesian coordinates\n",
    "def convert_to_grid_coords(lat, lng, lat_min, lat_max, lng_min, lng_max, grid_size=1000, depot_position=(500, 500)):\n",
    "    # Normalizing latitude and longitude\n",
    "    lat_norm = (lat - lat_min) / (lat_max - lat_min)\n",
    "    lng_norm = (lng - lng_min) / (lng_max - lng_min)\n",
    "\n",
    "    # Scaling to the grid size\n",
    "    x = int(lng_norm * grid_size)\n",
    "    y = int(lat_norm * grid_size)\n",
    "\n",
    "    # Translating so that depot is at the specified position\n",
    "    x += (depot_position[0] - int(grid_size / 2))\n",
    "    y += (depot_position[1] - int(grid_size / 2))\n",
    "\n",
    "    return x, y\n",
    "\n",
    "# Path to the JSON file\n",
    "file_path_json = '/Users/cstenico/Documents/shire/tcc-mba/loggibud/data/025/vrppd-instances-1.0/train/pa-0/cvrp-0-pa-0.json'\n",
    "\n",
    "\n",
    "# Loading the JSON data\n",
    "with open(file_path_json, 'r') as file:\n",
    "    json_data = json.load(file)\n",
    "\n",
    "# Extracting depot data\n",
    "depot = json_data['depot']\n",
    "\n",
    "partial_demands = json_data['demands']\n",
    "\n",
    "# Finding the min and max latitude and longitude values from the JSON data\n",
    "latitudes = [demand['point']['lat'] for demand in partial_demands] + [depot['lat']]\n",
    "longitudes = [demand['point']['lng'] for demand in partial_demands] + [depot['lng']]\n",
    "lat_min, lat_max = min(latitudes), max(latitudes)\n",
    "lng_min, lng_max = min(longitudes), max(longitudes)\n",
    "\n",
    "# Converting the depot and demands to VRP format with the new coordinate system\n",
    "depot_coords = convert_to_grid_coords(depot['lat'], depot['lng'], lat_min, lat_max, lng_min, lng_max)\n",
    "demands = [f\"1\\t0\"]  # Demand at depot is zero\n",
    "\n",
    "# Preparing nodes with the new coordinate system\n",
    "nodes = [f\"1\\t{depot_coords[0]}\\t{depot_coords[1]}\"]  # Depot as the first node\n",
    "for i, demand in enumerate(partial_demands, start=2):\n",
    "    node_coords = convert_to_grid_coords(demand['point']['lat'], demand['point']['lng'], lat_min, lat_max, lng_min, lng_max)\n",
    "    nodes.append(f\"{i}\\t{node_coords[0]}\\t{node_coords[1]}\")\n",
    "    demands.append(f\"{i}\\t{demand['size'] if demand['type'] == 'PICKUP' else -demand['size']}\")\n",
    "\n",
    "# Constructing the VRP file content\n",
    "vrp_content = f\"NAME : {json_data['name']}\\n\"\n",
    "vrp_content += \"TYPE : CVRP\\n\"\n",
    "vrp_content += f\"DIMENSION : {len(nodes)}\\n\"\n",
    "vrp_content += \"EDGE_WEIGHT_TYPE : EUC_2D\\n\"\n",
    "vrp_content += f\"CAPACITY : {json_data['vehicle_capacity']}\\n\"\n",
    "vrp_content += \"NODE_COORD_SECTION\\n\"\n",
    "vrp_content += '\\n'.join(nodes)\n",
    "vrp_content += \"\\nDEMAND_SECTION\\n\"\n",
    "vrp_content += '\\n'.join(demands)\n",
    "vrp_content += \"\\nDEPOT_SECTION\\n1\\n-1\\nEOF\"\n"
   ]
  },
  {
   "cell_type": "code",
   "execution_count": 3,
   "metadata": {},
   "outputs": [
    {
     "data": {
      "text/plain": [
       "'NAME : cvrp-0-pa-0\\nTYPE : CVRP\\nDIMENSION : 348\\nEDGE_WEIGHT_TYPE : EUC_2D\\nCAPACITY : 180\\nNODE_COORD_SECTION\\n1\\t489\\t437\\n2\\t494\\t455\\n3\\t497\\t459\\n4\\t504\\t465\\n5\\t501\\t448\\n6\\t513\\t462\\n7\\t499\\t460\\n8\\t490\\t454\\n9\\t506\\t445\\n10\\t510\\t465\\n11\\t497\\t449\\n12\\t506\\t460\\n13\\t494\\t455\\n14\\t498\\t465\\n15\\t507\\t471\\n16\\t499\\t462\\n17\\t497\\t459\\n18\\t499\\t457\\n19\\t501\\t458\\n20\\t503\\t459\\n21\\t494\\t463\\n22\\t490\\t464\\n23\\t512\\t452\\n24\\t496\\t465\\n25\\t494\\t462\\n26\\t508\\t461\\n27\\t502\\t447\\n28\\t513\\t464\\n29\\t507\\t459\\n30\\t503\\t453\\n31\\t494\\t462\\n32\\t509\\t474\\n33\\t496\\t457\\n34\\t494\\t464\\n35\\t41\\t422\\n36\\t57\\t429\\n37\\t51\\t375\\n38\\t32\\t430\\n39\\t37\\t444\\n40\\t39\\t447\\n41\\t48\\t421\\n42\\t57\\t421\\n43\\t40\\t411\\n44\\t56\\t423\\n45\\t51\\t438\\n46\\t37\\t406\\n47\\t33\\t428\\n48\\t55\\t390\\n49\\t46\\t421\\n50\\t45\\t427\\n51\\t54\\t424\\n52\\t0\\t482\\n53\\t49\\t412\\n54\\t475\\t447\\n55\\t472\\t460\\n56\\t481\\t442\\n57\\t468\\t433\\n58\\t467\\t454\\n59\\t477\\t436\\n60\\t244\\t438\\n61\\t247\\t595\\n62\\t271\\t384\\n63\\t224\\t574\\n64\\t255\\t415\\n65\\t284\\t389\\n66\\t172\\t346\\n67\\t280\\t391\\n68\\t281\\t392\\n69\\t521\\t446\\n70\\t525\\t469\\n71\\t516\\t437\\n72\\t520\\t442\\n73\\t528\\t441\\n74\\t522\\t441\\n75\\t517\\t439\\n76\\t531\\t463\\n77\\t527\\t445\\n78\\t515\\t447\\n79\\t524\\t468\\n80\\t516\\t448\\n81\\t536\\t444\\n82\\t526\\t440\\n83\\t528\\t456\\n84\\t524\\t439\\n85\\t528\\t456\\n86\\t531\\t444\\n87\\t518\\t454\\n88\\t520\\t453\\n89\\t526\\t439\\n90\\t521\\t472\\n91\\t518\\t436\\n92\\t532\\t461\\n93\\t526\\t439\\n94\\t515\\t454\\n95\\t519\\t468\\n96\\t520\\t459\\n97\\t522\\t442\\n98\\t529\\t453\\n99\\t520\\t464\\n100\\t466\\t493\\n101\\t464\\t462\\n102\\t460\\t480\\n103\\t461\\t472\\n104\\t459\\t475\\n105\\t460\\t480\\n106\\t75\\t427\\n107\\t79\\t431\\n108\\t80\\t431\\n109\\t74\\t416\\n110\\t153\\t418\\n111\\t64\\t424\\n112\\t71\\t394\\n113\\t59\\t461\\n114\\t69\\t417\\n115\\t77\\t432\\n116\\t91\\t547\\n117\\t66\\t411\\n118\\t76\\t426\\n119\\t65\\t429\\n120\\t73\\t432\\n121\\t95\\t433\\n122\\t64\\t426\\n123\\t66\\t416\\n124\\t58\\t436\\n125\\t70\\t426\\n126\\t61\\t422\\n127\\t63\\t392\\n128\\t69\\t435\\n129\\t68\\t439\\n130\\t1000\\t151\\n131\\t688\\t247\\n132\\t312\\t188\\n133\\t299\\t313\\n134\\t296\\t216\\n135\\t299\\t313\\n136\\t477\\t402\\n137\\t469\\t405\\n138\\t477\\t391\\n139\\t475\\t404\\n140\\t477\\t396\\n141\\t477\\t405\\n142\\t474\\t409\\n143\\t477\\t396\\n144\\t477\\t391\\n145\\t481\\t399\\n146\\t469\\t385\\n147\\t485\\t406\\n148\\t469\\t405\\n149\\t483\\t403\\n150\\t524\\t473\\n151\\t523\\t473\\n152\\t539\\t472\\n153\\t543\\t478\\n154\\t523\\t480\\n155\\t543\\t477\\n156\\t541\\t485\\n157\\t531\\t490\\n158\\t538\\t477\\n159\\t525\\t486\\n160\\t536\\t469\\n161\\t527\\t480\\n162\\t518\\t478\\n163\\t529\\t506\\n164\\t522\\t499\\n165\\t342\\t405\\n166\\t369\\t432\\n167\\t369\\t432\\n168\\t397\\t422\\n169\\t502\\t436\\n170\\t501\\t440\\n171\\t510\\t427\\n172\\t503\\t429\\n173\\t503\\t432\\n174\\t500\\t423\\n175\\t516\\t436\\n176\\t501\\t434\\n177\\t512\\t431\\n178\\t501\\t422\\n179\\t508\\t418\\n180\\t501\\t443\\n181\\t503\\t434\\n182\\t511\\t437\\n183\\t499\\t437\\n184\\t516\\t436\\n185\\t510\\t442\\n186\\t509\\t417\\n187\\t505\\t423\\n188\\t507\\t418\\n189\\t501\\t443\\n190\\t455\\t430\\n191\\t454\\t433\\n192\\t457\\t445\\n193\\t447\\t442\\n194\\t458\\t446\\n195\\t459\\t430\\n196\\t460\\t446\\n197\\t464\\t440\\n198\\t463\\t444\\n199\\t459\\t444\\n200\\t463\\t448\\n201\\t483\\t434\\n202\\t496\\t439\\n203\\t494\\t428\\n204\\t498\\t436\\n205\\t494\\t437\\n206\\t494\\t447\\n207\\t489\\t433\\n208\\t481\\t437\\n209\\t495\\t448\\n210\\t484\\t436\\n211\\t492\\t437\\n212\\t487\\t435\\n213\\t484\\t432\\n214\\t491\\t442\\n215\\t488\\t437\\n216\\t492\\t445\\n217\\t490\\t452\\n218\\t490\\t453\\n219\\t494\\t438\\n220\\t482\\t435\\n221\\t481\\t432\\n222\\t493\\t429\\n223\\t498\\t446\\n224\\t492\\t435\\n225\\t484\\t434\\n226\\t489\\t443\\n227\\t490\\t429\\n228\\t496\\t432\\n229\\t488\\t439\\n230\\t482\\t437\\n231\\t558\\t390\\n232\\t561\\t383\\n233\\t562\\t372\\n234\\t563\\t372\\n235\\t562\\t389\\n236\\t571\\t380\\n237\\t649\\t333\\n238\\t560\\t385\\n239\\t586\\t396\\n240\\t560\\t402\\n241\\t568\\t380\\n242\\t597\\t368\\n243\\t572\\t377\\n244\\t556\\t392\\n245\\t572\\t386\\n246\\t572\\t405\\n247\\t578\\t395\\n248\\t569\\t375\\n249\\t574\\t373\\n250\\t573\\t404\\n251\\t562\\t401\\n252\\t487\\t410\\n253\\t491\\t406\\n254\\t496\\t411\\n255\\t495\\t415\\n256\\t508\\t414\\n257\\t492\\t410\\n258\\t505\\t402\\n259\\t492\\t414\\n260\\t486\\t411\\n261\\t498\\t419\\n262\\t504\\t410\\n263\\t499\\t419\\n264\\t490\\t409\\n265\\t506\\t404\\n266\\t498\\t411\\n267\\t502\\t418\\n268\\t508\\t411\\n269\\t509\\t403\\n270\\t493\\t400\\n271\\t513\\t401\\n272\\t521\\t377\\n273\\t513\\t402\\n274\\t515\\t399\\n275\\t517\\t395\\n276\\t491\\t384\\n277\\t487\\t384\\n278\\t30\\t152\\n279\\t114\\t132\\n280\\t73\\t80\\n281\\t69\\t117\\n282\\t15\\t0\\n283\\t2\\t262\\n284\\t55\\t260\\n285\\t133\\t289\\n286\\t75\\t365\\n287\\t63\\t282\\n288\\t369\\t478\\n289\\t434\\t492\\n290\\t581\\t787\\n291\\t497\\t1000\\n292\\t654\\t888\\n293\\t528\\t831\\n294\\t507\\t584\\n295\\t487\\t502\\n296\\t493\\t495\\n297\\t503\\t473\\n298\\t481\\t487\\n299\\t503\\t476\\n300\\t508\\t475\\n301\\t575\\t439\\n302\\t571\\t438\\n303\\t565\\t425\\n304\\t568\\t430\\n305\\t582\\t417\\n306\\t555\\t420\\n307\\t554\\t420\\n308\\t556\\t413\\n309\\t554\\t423\\n310\\t565\\t437\\n311\\t564\\t463\\n312\\t562\\t430\\n313\\t473\\t413\\n314\\t477\\t421\\n315\\t477\\t416\\n316\\t479\\t429\\n317\\t467\\t413\\n318\\t487\\t423\\n319\\t467\\t428\\n320\\t476\\t419\\n321\\t483\\t416\\n322\\t477\\t414\\n323\\t468\\t420\\n324\\t474\\t423\\n325\\t463\\t379\\n326\\t454\\t374\\n327\\t519\\t415\\n328\\t527\\t433\\n329\\t524\\t428\\n330\\t528\\t411\\n331\\t519\\t408\\n332\\t526\\t415\\n333\\t522\\t414\\n334\\t516\\t407\\n335\\t535\\t425\\n336\\t517\\t416\\n337\\t539\\t417\\n338\\t518\\t415\\n339\\t522\\t413\\n340\\t523\\t413\\n341\\t529\\t415\\n342\\t526\\t419\\n343\\t520\\t415\\n344\\t526\\t427\\n345\\t529\\t413\\n346\\t525\\t431\\n347\\t523\\t431\\n348\\t520\\t432\\nDEMAND_SECTION\\n1\\t0\\n2\\t-10\\n3\\t-2\\n4\\t-10\\n5\\t-2\\n6\\t-3\\n7\\t-10\\n8\\t-3\\n9\\t-3\\n10\\t-3\\n11\\t-5\\n12\\t-8\\n13\\t-10\\n14\\t-10\\n15\\t-3\\n16\\t-3\\n17\\t-5\\n18\\t-7\\n19\\t-9\\n20\\t-3\\n21\\t-6\\n22\\t-1\\n23\\t-9\\n24\\t-4\\n25\\t-3\\n26\\t-6\\n27\\t-7\\n28\\t3\\n29\\t8\\n30\\t3\\n31\\t1\\n32\\t3\\n33\\t5\\n34\\t8\\n35\\t-4\\n36\\t-2\\n37\\t-2\\n38\\t-1\\n39\\t-7\\n40\\t-4\\n41\\t-1\\n42\\t-2\\n43\\t-8\\n44\\t-8\\n45\\t-8\\n46\\t-7\\n47\\t-6\\n48\\t-9\\n49\\t-2\\n50\\t-6\\n51\\t7\\n52\\t10\\n53\\t10\\n54\\t-7\\n55\\t-2\\n56\\t-3\\n57\\t-1\\n58\\t-3\\n59\\t5\\n60\\t-7\\n61\\t-1\\n62\\t-8\\n63\\t-3\\n64\\t-4\\n65\\t-1\\n66\\t-10\\n67\\t10\\n68\\t5\\n69\\t-1\\n70\\t-10\\n71\\t-5\\n72\\t-8\\n73\\t-6\\n74\\t-5\\n75\\t-9\\n76\\t-6\\n77\\t-7\\n78\\t-9\\n79\\t-6\\n80\\t-1\\n81\\t-8\\n82\\t-8\\n83\\t-3\\n84\\t-7\\n85\\t-10\\n86\\t-2\\n87\\t-10\\n88\\t-4\\n89\\t-10\\n90\\t-10\\n91\\t-10\\n92\\t8\\n93\\t9\\n94\\t6\\n95\\t5\\n96\\t10\\n97\\t8\\n98\\t3\\n99\\t2\\n100\\t-5\\n101\\t-2\\n102\\t-6\\n103\\t-1\\n104\\t-3\\n105\\t-6\\n106\\t-10\\n107\\t-3\\n108\\t-7\\n109\\t-2\\n110\\t-7\\n111\\t-8\\n112\\t-3\\n113\\t-5\\n114\\t-9\\n115\\t-6\\n116\\t-9\\n117\\t-7\\n118\\t-4\\n119\\t-3\\n120\\t-6\\n121\\t-5\\n122\\t-10\\n123\\t-7\\n124\\t-3\\n125\\t8\\n126\\t2\\n127\\t5\\n128\\t4\\n129\\t2\\n130\\t-5\\n131\\t-5\\n132\\t-9\\n133\\t-10\\n134\\t-5\\n135\\t-10\\n136\\t-6\\n137\\t-8\\n138\\t-10\\n139\\t-3\\n140\\t-9\\n141\\t-9\\n142\\t-8\\n143\\t-6\\n144\\t-3\\n145\\t-6\\n146\\t-3\\n147\\t-10\\n148\\t-8\\n149\\t9\\n150\\t-1\\n151\\t-10\\n152\\t-6\\n153\\t-8\\n154\\t-1\\n155\\t-4\\n156\\t-9\\n157\\t-9\\n158\\t-10\\n159\\t5\\n160\\t8\\n161\\t8\\n162\\t2\\n163\\t2\\n164\\t4\\n165\\t-8\\n166\\t-4\\n167\\t-4\\n168\\t-3\\n169\\t-5\\n170\\t-7\\n171\\t-3\\n172\\t-3\\n173\\t-2\\n174\\t-10\\n175\\t-5\\n176\\t-1\\n177\\t-3\\n178\\t-4\\n179\\t-7\\n180\\t-5\\n181\\t-7\\n182\\t-9\\n183\\t-3\\n184\\t-1\\n185\\t-7\\n186\\t-10\\n187\\t-2\\n188\\t-7\\n189\\t10\\n190\\t-9\\n191\\t-3\\n192\\t-8\\n193\\t-5\\n194\\t-9\\n195\\t-2\\n196\\t-1\\n197\\t-10\\n198\\t1\\n199\\t3\\n200\\t6\\n201\\t-1\\n202\\t-6\\n203\\t-10\\n204\\t-10\\n205\\t-9\\n206\\t-4\\n207\\t-7\\n208\\t-8\\n209\\t-7\\n210\\t-3\\n211\\t-8\\n212\\t-2\\n213\\t-5\\n214\\t-9\\n215\\t-5\\n216\\t-8\\n217\\t-3\\n218\\t-2\\n219\\t-2\\n220\\t-1\\n221\\t-5\\n222\\t-4\\n223\\t7\\n224\\t10\\n225\\t10\\n226\\t3\\n227\\t6\\n228\\t6\\n229\\t2\\n230\\t7\\n231\\t-3\\n232\\t-2\\n233\\t-5\\n234\\t-2\\n235\\t-9\\n236\\t-5\\n237\\t-8\\n238\\t-5\\n239\\t-5\\n240\\t-1\\n241\\t-7\\n242\\t-1\\n243\\t-6\\n244\\t-5\\n245\\t-5\\n246\\t-3\\n247\\t-7\\n248\\t5\\n249\\t10\\n250\\t7\\n251\\t1\\n252\\t-5\\n253\\t-6\\n254\\t-3\\n255\\t-9\\n256\\t-4\\n257\\t-8\\n258\\t-8\\n259\\t-2\\n260\\t-8\\n261\\t-5\\n262\\t-3\\n263\\t-8\\n264\\t-8\\n265\\t7\\n266\\t4\\n267\\t10\\n268\\t4\\n269\\t8\\n270\\t10\\n271\\t-5\\n272\\t-2\\n273\\t-8\\n274\\t-4\\n275\\t-5\\n276\\t-2\\n277\\t-1\\n278\\t-8\\n279\\t-6\\n280\\t-3\\n281\\t-2\\n282\\t3\\n283\\t-10\\n284\\t-7\\n285\\t-3\\n286\\t-9\\n287\\t2\\n288\\t3\\n289\\t8\\n290\\t-5\\n291\\t-4\\n292\\t-10\\n293\\t-3\\n294\\t-9\\n295\\t-9\\n296\\t-9\\n297\\t-9\\n298\\t-7\\n299\\t-7\\n300\\t-8\\n301\\t-6\\n302\\t-4\\n303\\t-5\\n304\\t-6\\n305\\t-4\\n306\\t-7\\n307\\t-9\\n308\\t-5\\n309\\t-3\\n310\\t-1\\n311\\t2\\n312\\t9\\n313\\t-1\\n314\\t-10\\n315\\t-8\\n316\\t-3\\n317\\t-4\\n318\\t-9\\n319\\t-5\\n320\\t-2\\n321\\t-7\\n322\\t-8\\n323\\t7\\n324\\t6\\n325\\t-2\\n326\\t-5\\n327\\t-3\\n328\\t-5\\n329\\t-5\\n330\\t-8\\n331\\t-5\\n332\\t-1\\n333\\t-9\\n334\\t-5\\n335\\t-10\\n336\\t-2\\n337\\t-6\\n338\\t-8\\n339\\t-10\\n340\\t-10\\n341\\t-2\\n342\\t-9\\n343\\t-8\\n344\\t2\\n345\\t3\\n346\\t6\\n347\\t10\\n348\\t6\\nDEPOT_SECTION\\n1\\n-1\\nEOF'"
      ]
     },
     "execution_count": 3,
     "metadata": {},
     "output_type": "execute_result"
    }
   ],
   "source": [
    "vrp_content"
   ]
  },
  {
   "cell_type": "code",
   "execution_count": 4,
   "metadata": {},
   "outputs": [],
   "source": [
    "output_file_path = 'instances/PA_0/PA.vrp'\n",
    "\n",
    "# Saving the VRP content to a file\n",
    "with open(output_file_path, 'w') as file:\n",
    "    file.write(vrp_content)"
   ]
  },
  {
   "cell_type": "code",
   "execution_count": 19,
   "metadata": {},
   "outputs": [],
   "source": [
    "from vrp.data_utils import InstanceBlueprint\n",
    "\n",
    "blue_print = InstanceBlueprint(nb_customers=len(partial_demands) - 1,\n",
    "depot_position='R',\n",
    "customer_position='R',\n",
    "nb_customer_cluster=None,\n",
    "demand_type='inter',\n",
    "demand_min=min(demand['size'] for demand in partial_demands),\n",
    "demand_max=max(demand['size'] for demand in partial_demands),\n",
    "capacity=json_data['vehicle_capacity'],\n",
    "grid_size=1000)"
   ]
  },
  {
   "cell_type": "code",
   "execution_count": 20,
   "metadata": {},
   "outputs": [
    {
     "data": {
      "text/plain": [
       "{'nb_customers': 99,\n",
       " 'depot_position': 'R',\n",
       " 'customer_position': 'R',\n",
       " 'nb_customers_cluster': None,\n",
       " 'demand_type': 'inter',\n",
       " 'demand_min': 1,\n",
       " 'demand_max': 10,\n",
       " 'capacity': 180,\n",
       " 'grid_size': 1000}"
      ]
     },
     "execution_count": 20,
     "metadata": {},
     "output_type": "execute_result"
    }
   ],
   "source": [
    "blue_print.__dict__\n"
   ]
  },
  {
   "cell_type": "code",
   "execution_count": null,
   "metadata": {},
   "outputs": [],
   "source": []
  }
 ],
 "metadata": {
  "kernelspec": {
   "display_name": "loggibud",
   "language": "python",
   "name": "python3"
  },
  "language_info": {
   "codemirror_mode": {
    "name": "ipython",
    "version": 3
   },
   "file_extension": ".py",
   "mimetype": "text/x-python",
   "name": "python",
   "nbconvert_exporter": "python",
   "pygments_lexer": "ipython3",
   "version": "3.9.4"
  }
 },
 "nbformat": 4,
 "nbformat_minor": 2
}
